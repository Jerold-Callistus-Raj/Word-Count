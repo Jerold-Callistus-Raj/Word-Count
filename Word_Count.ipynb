{
  "nbformat": 4,
  "nbformat_minor": 0,
  "metadata": {
    "colab": {
      "provenance": []
    },
    "kernelspec": {
      "name": "python3",
      "display_name": "Python 3"
    },
    "language_info": {
      "name": "python"
    }
  },
  "cells": [
    {
      "cell_type": "code",
      "source": [
        "def WordCount():\n",
        "  #To collect the input string\n",
        "  given_text = input(\"Enter the text or paragraph to count the words in it : \\n\")\n",
        "  #new-txt is an empty string\n",
        "  new_txt = ''\n",
        "  #Here we are removing the white spaces between the text string\n",
        "  for char in given_text:\n",
        "    if char!=' ':\n",
        "      new_txt+=char\n",
        "  # To make sure the white spaces are removed.\n",
        "  print(\"After the white spaces are removed, the text will look like : \\n\",new_txt)\n",
        "  #count variable is created with value 0\n",
        "  count = 0\n",
        "  # for string is iterated the count will increase by 1\n",
        "  for i in new_txt:\n",
        "    count+=1\n",
        "  #Final count of the string is returned\n",
        "  a1 = print(\"The Total count of the given text or paragraph is : \",count)\n",
        "  return a1"
      ],
      "metadata": {
        "id": "rHxTP9OEVBK5"
      },
      "execution_count": 43,
      "outputs": []
    },
    {
      "cell_type": "code",
      "source": [
        "WordCount()"
      ],
      "metadata": {
        "colab": {
          "base_uri": "https://localhost:8080/"
        },
        "id": "zoLtpuofWsJa",
        "outputId": "4ca44dc9-3c1f-45ae-bcd9-b29de067d686"
      },
      "execution_count": 44,
      "outputs": [
        {
          "output_type": "stream",
          "name": "stdout",
          "text": [
            "Enter the text or paragraph to count the words in it : \n",
            "The simplest and most common way to print a newline character in Python is by using the \\n escape sequence. For example, the following code will print two lines of text, with a newline character between them:\n",
            "After the white spaces are removed, the text will look like : \n",
            " ThesimplestandmostcommonwaytoprintanewlinecharacterinPythonisbyusingthe\\nescapesequence.Forexample,thefollowingcodewillprinttwolinesoftext,withanewlinecharacterbetweenthem:\n",
            "The Total count of the given text or paragraph is :  172\n"
          ]
        }
      ]
    },
    {
      "cell_type": "code",
      "source": [],
      "metadata": {
        "id": "uQAocg37WuC9"
      },
      "execution_count": null,
      "outputs": []
    }
  ]
}